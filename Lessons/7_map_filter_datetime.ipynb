{
 "cells": [
  {
   "cell_type": "markdown",
   "metadata": {},
   "source": [
    "## Встроенные функции"
   ]
  },
  {
   "cell_type": "code",
   "execution_count": 4,
   "metadata": {},
   "outputs": [
    {
     "name": "stdout",
     "output_type": "stream",
     "text": [
      "154\n",
      "2\n",
      "[154, 56, 43, 34, 12, 5, 2]\n",
      "[2, 5, 12, 34, 43, 56, 154]\n"
     ]
    }
   ],
   "source": [
    "numbers = [2, 5, 34, 12, 56, 43, 154]\n",
    "print(max(numbers)) # Макс значение\n",
    "print(min(numbers)) # Мин значение\n",
    "print(sorted(numbers, reverse=True)) # Сортировка в обр. По возрастанию без второго аргумента\n",
    "# Ф-ции не меняют список\n",
    "\n",
    "# Для изменения списка используем:\n",
    "numbers.sort() # для изменения порядка в скобки добавляем reverse=True\n",
    "print(numbers)"
   ]
  },
  {
   "cell_type": "markdown",
   "metadata": {},
   "source": [
    "## Map - маппинг, или сращивание данных"
   ]
  },
  {
   "cell_type": "code",
   "execution_count": 6,
   "metadata": {},
   "outputs": [
    {
     "name": "stdout",
     "output_type": "stream",
     "text": [
      "[2, 4, 6, 8, 10]\n",
      "[1, 2, 3, 4, 5]\n"
     ]
    }
   ],
   "source": [
    "my_list = [1, 2, 3, 4, 5]\n",
    "new_list = []\n",
    "\n",
    "# медленное решение\n",
    "for i in my_list:\n",
    "    new_list.append(i * 2)\n",
    "\n",
    "print(new_list)"
   ]
  },
  {
   "cell_type": "code",
   "execution_count": 10,
   "metadata": {},
   "outputs": [
    {
     "name": "stdout",
     "output_type": "stream",
     "text": [
      "[2, 4, 6, 8, 10]\n"
     ]
    }
   ],
   "source": [
    "# Быстро\n",
    "my_list = [1, 2, 3, 4, 5]\n",
    "\n",
    "def mult_by_2(x): # делаем ф-цию, которая обрабатывает один элемент списка\n",
    "    return x * 2\n",
    "\n",
    "new_list = map(mult_by_2, my_list)\n",
    "print(list(new_list))"
   ]
  },
  {
   "cell_type": "code",
   "execution_count": 11,
   "metadata": {},
   "outputs": [
    {
     "name": "stdout",
     "output_type": "stream",
     "text": [
      "[2, 4, 6, 8, 10]\n"
     ]
    }
   ],
   "source": [
    "# Красиво\n",
    "my_list = [1, 2, 3, 4, 5]\n",
    "\n",
    "new_list = map(lambda x: x * 2, my_list)\n",
    "print(list(new_list))"
   ]
  },
  {
   "cell_type": "markdown",
   "metadata": {},
   "source": [
    "## Фильтр\n",
    "вывести только четные числа из коллекции"
   ]
  },
  {
   "cell_type": "code",
   "execution_count": 14,
   "metadata": {},
   "outputs": [
    {
     "name": "stdout",
     "output_type": "stream",
     "text": [
      "[2, 4]\n"
     ]
    }
   ],
   "source": [
    "# Медлено\n",
    "my_list = [1, 2, 3, 4, 5]\n",
    "\n",
    "new_list = []\n",
    "\n",
    "for i in my_list:\n",
    "    if i % 2 == 0:\n",
    "        new_list.append(i)\n",
    "\n",
    "print(new_list)"
   ]
  },
  {
   "cell_type": "code",
   "execution_count": 15,
   "metadata": {},
   "outputs": [
    {
     "name": "stdout",
     "output_type": "stream",
     "text": [
      "[2, 4]\n"
     ]
    }
   ],
   "source": [
    "# Быстро\n",
    "my_list = [1, 2, 3, 4, 5]\n",
    "\n",
    "def is_even(x):\n",
    "    if x % 2 == 0:\n",
    "        return True\n",
    "    \n",
    "new_list = filter(is_even, my_list)\n",
    "print(list(new_list))"
   ]
  },
  {
   "cell_type": "code",
   "execution_count": 16,
   "metadata": {},
   "outputs": [
    {
     "name": "stdout",
     "output_type": "stream",
     "text": [
      "[2, 4]\n"
     ]
    }
   ],
   "source": [
    "# Красиво\n",
    "my_list = [1, 2, 3, 4, 5]\n",
    "\n",
    "new_list = filter(lambda x: x % 2 == 0, my_list)\n",
    "print(list(new_list))"
   ]
  },
  {
   "cell_type": "markdown",
   "metadata": {},
   "source": [
    "## Datetime"
   ]
  },
  {
   "cell_type": "code",
   "execution_count": null,
   "metadata": {},
   "outputs": [],
   "source": [
    "import datetime\n",
    "\n",
    "# время сейчас\n",
    "time_now = datetime.datetime.now()\n",
    "print(time_now)"
   ]
  }
 ],
 "metadata": {
  "kernelspec": {
   "display_name": "base",
   "language": "python",
   "name": "python3"
  },
  "language_info": {
   "codemirror_mode": {
    "name": "ipython",
    "version": 3
   },
   "file_extension": ".py",
   "mimetype": "text/x-python",
   "name": "python",
   "nbconvert_exporter": "python",
   "pygments_lexer": "ipython3",
   "version": "3.8.8"
  }
 },
 "nbformat": 4,
 "nbformat_minor": 2
}
