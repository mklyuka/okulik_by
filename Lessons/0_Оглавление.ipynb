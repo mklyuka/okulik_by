{
 "cells": [
  {
   "cell_type": "markdown",
   "metadata": {},
   "source": [
    "# Оглавление"
   ]
  },
  {
   "cell_type": "markdown",
   "metadata": {},
   "source": [
    "## 1_Python_basics\n",
    "1. Идентификаторы\n",
    "2. Основные типы данных\n",
    "3. Переменные\n",
    "4. Типы операторов\n",
    "5. Порядок операций"
   ]
  },
  {
   "cell_type": "markdown",
   "metadata": {},
   "source": [
    "## 2_Python_basics\n",
    "1. Оператор id для проверки ячейки памяти, которая хранит значение\n",
    "2. Ввод данных с клавиатуры\n",
    "3. функция sep - для добавления разделителей между перечисляемыми строковыми значениями\n",
    "4. type(some_symbols) - определение типа данных\n",
    "5. Типы данных: список, словарь, кортеж, множество"
   ]
  }
 ],
 "metadata": {
  "kernelspec": {
   "display_name": "base",
   "language": "python",
   "name": "python3"
  },
  "language_info": {
   "codemirror_mode": {
    "name": "ipython",
    "version": 3
   },
   "file_extension": ".py",
   "mimetype": "text/x-python",
   "name": "python",
   "nbconvert_exporter": "python",
   "pygments_lexer": "ipython3",
   "version": "3.8.8"
  }
 },
 "nbformat": 4,
 "nbformat_minor": 2
}
