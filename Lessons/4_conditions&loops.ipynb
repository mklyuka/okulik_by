{
 "cells": [
  {
   "cell_type": "markdown",
   "metadata": {},
   "source": [
    "# Условия"
   ]
  },
  {
   "cell_type": "code",
   "execution_count": null,
   "metadata": {},
   "outputs": [
    {
     "name": "stdout",
     "output_type": "stream",
     "text": [
      "Вы написали какую то хуйню\n"
     ]
    }
   ],
   "source": [
    "# у студента три числа: 1, 2 и много\n",
    "\n",
    "user_int = input('Введите целое положительное число до 100: ')\n",
    "if user_int.isnumeric:\n",
    "    user_int = int(user_int)\n",
    "    if user_int == 1 or user_int == 2:\n",
    "        print(f'Ваше число: {user_int}')\n",
    "    elif 100 > user_int > 2:\n",
    "        print('Ваше число: много')\n",
    "    else:\n",
    "        print('Вы написали слишком много')\n",
    "else:\n",
    "    print('Вы написали какую то хуйню')"
   ]
  },
  {
   "cell_type": "markdown",
   "metadata": {},
   "source": [
    "урок 6 - 26:00"
   ]
  }
 ],
 "metadata": {
  "kernelspec": {
   "display_name": "base",
   "language": "python",
   "name": "python3"
  },
  "language_info": {
   "codemirror_mode": {
    "name": "ipython",
    "version": 3
   },
   "file_extension": ".py",
   "mimetype": "text/x-python",
   "name": "python",
   "nbconvert_exporter": "python",
   "pygments_lexer": "ipython3",
   "version": "3.8.8"
  }
 },
 "nbformat": 4,
 "nbformat_minor": 2
}
