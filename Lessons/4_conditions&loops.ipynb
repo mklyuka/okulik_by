{
 "cells": [
  {
   "cell_type": "markdown",
   "metadata": {},
   "source": [
    "# Условия"
   ]
  },
  {
   "cell_type": "code",
   "execution_count": null,
   "metadata": {},
   "outputs": [
    {
     "name": "stdout",
     "output_type": "stream",
     "text": [
      "Вы написали какую то хуйню\n"
     ]
    }
   ],
   "source": [
    "# у студента три числа: 1, 2 и много\n",
    "\n",
    "user_int = input('Введите целое положительное число до 100: ')\n",
    "if user_int.isnumeric:\n",
    "    user_int = int(user_int)\n",
    "    if user_int == 1 or user_int == 2:\n",
    "        print(f'Ваше число: {user_int}')\n",
    "    elif 100 > user_int > 2:\n",
    "        print('Ваше число: много')\n",
    "    else:\n",
    "        print('Вы написали слишком много')\n",
    "else:\n",
    "    print('Вы написали какую то хуйню')"
   ]
  },
  {
   "cell_type": "markdown",
   "metadata": {},
   "source": [
    "# Циклы\n",
    "## Цикл for loop"
   ]
  },
  {
   "cell_type": "code",
   "execution_count": 5,
   "metadata": {},
   "outputs": [
    {
     "name": "stdout",
     "output_type": "stream",
     "text": [
      "John\n",
      "James\n",
      "Jim\n"
     ]
    }
   ],
   "source": [
    "names = ['John', 'Tim', 'james', 'Bob']\n",
    "\n",
    "for name in names:\n",
    "    name = name.lower()\n",
    "    if name[0] == 'j':\n",
    "        print(name.title())"
   ]
  },
  {
   "cell_type": "code",
   "execution_count": 13,
   "metadata": {},
   "outputs": [
    {
     "name": "stdout",
     "output_type": "stream",
     "text": [
      "13\n",
      "18\n",
      "14\n",
      "12\n",
      "15\n",
      "14\n"
     ]
    }
   ],
   "source": [
    "# Вызов значений из словаря\n",
    "names = {'John': 13, 'Tim': 18, 'james': 14, 'Bob': 12}\n",
    "\n",
    "for name in names.values():\n",
    "    print(name)\n"
   ]
  },
  {
   "cell_type": "code",
   "execution_count": 16,
   "metadata": {},
   "outputs": [
    {
     "name": "stdout",
     "output_type": "stream",
     "text": [
      "Mr. John! his dick is 13cm\n",
      "Mr. Tim! his dick is 18cm\n",
      "Mr. james! his dick is 14cm\n",
      "Mr. Bob! his dick is 12cm\n"
     ]
    }
   ],
   "source": [
    "# перебор кортежей из словаря\n",
    "names = {'John': 13, 'Tim': 18, 'james': 14, 'Bob': 12}\n",
    "\n",
    "for a, b in names.items():\n",
    "    print(f\"Mr. {a}! his dick is {b}cm\")"
   ]
  },
  {
   "cell_type": "markdown",
   "metadata": {},
   "source": [
    "## Задача\n",
    "Распечатать все слова в которых есть буква 'o' и выбросить из текста, текст потом распечатать"
   ]
  },
  {
   "cell_type": "code",
   "execution_count": 24,
   "metadata": {},
   "outputs": [
    {
     "name": "stdout",
     "output_type": "stream",
     "text": [
      "justo\n",
      "commodo\n",
      "libero\n",
      "Sed vitae malesuada, eu, bibendum mauris\n"
     ]
    }
   ],
   "source": [
    "txt = 'Sed vitae justo malesuada, commodo libero eu, bibendum mauris'\n",
    "\n",
    "txt_list = txt.split()\n",
    "fin_list = []\n",
    "for i in txt_list:\n",
    "    if 'o' in i:\n",
    "        print(i)\n",
    "    else: fin_list.append(i)\n",
    "\n",
    "print(' '.join(fin_list))"
   ]
  }
 ],
 "metadata": {
  "kernelspec": {
   "display_name": "base",
   "language": "python",
   "name": "python3"
  },
  "language_info": {
   "codemirror_mode": {
    "name": "ipython",
    "version": 3
   },
   "file_extension": ".py",
   "mimetype": "text/x-python",
   "name": "python",
   "nbconvert_exporter": "python",
   "pygments_lexer": "ipython3",
   "version": "3.8.8"
  }
 },
 "nbformat": 4,
 "nbformat_minor": 2
}
