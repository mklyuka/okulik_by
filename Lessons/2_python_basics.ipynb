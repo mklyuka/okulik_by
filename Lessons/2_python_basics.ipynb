{
 "cells": [
  {
   "cell_type": "markdown",
   "metadata": {},
   "source": [
    "# Операторы тдентичности\n",
    "проверяют на точное соответствие\n",
    "python обычно сохраняет значнеия в памяти и задает ячейче памяти id\n",
    "для чисел до 256, одинаковые числа сохраняются с одинаковым id\n",
    "числа больше 256 сохраняются с разными id"
   ]
  },
  {
   "cell_type": "code",
   "execution_count": 3,
   "metadata": {},
   "outputs": [
    {
     "name": "stdout",
     "output_type": "stream",
     "text": [
      "140707777947472\n",
      "140707777947472\n",
      "2280887501008\n",
      "2280887501296\n",
      "True\n",
      "True\n"
     ]
    }
   ],
   "source": [
    "b = 2\n",
    "print(id(b))\n",
    "c = 2\n",
    "print(id(c))\n",
    "d = 257\n",
    "print(id(d))\n",
    "f = 257\n",
    "print(id(f))\n",
    "\n",
    "print(b is c)\n",
    "print(d is not f)"
   ]
  },
  {
   "cell_type": "markdown",
   "metadata": {},
   "source": [
    "## Способы ввода данных\n",
    "* Клавиатура\n",
    "* Чтение из файла\n",
    "* БД\n",
    "* API\n",
    "\n",
    "Будем рассматривать клавиатуру"
   ]
  },
  {
   "cell_type": "code",
   "execution_count": 4,
   "metadata": {},
   "outputs": [
    {
     "name": "stdout",
     "output_type": "stream",
     "text": [
      "Hello zalupa !\n"
     ]
    }
   ],
   "source": [
    "name = input('What is your name?')\n",
    "print('Hello', name, '!', sep = ' ')"
   ]
  },
  {
   "cell_type": "markdown",
   "metadata": {},
   "source": [
    "Все принятые данные запоминаются как строка\n",
    "для определения типа данных используем оператор type"
   ]
  },
  {
   "cell_type": "code",
   "execution_count": 5,
   "metadata": {},
   "outputs": [
    {
     "name": "stdout",
     "output_type": "stream",
     "text": [
      "type symbols is:  <class 'str'>\n"
     ]
    }
   ],
   "source": [
    "some_symbols = input('write some symbols')\n",
    "print('type symbols is: ', type(some_symbols))"
   ]
  },
  {
   "cell_type": "markdown",
   "metadata": {},
   "source": [
    "# Еще немного типов данных\n",
    "1. List - список\n",
    "2. Dictionary - словарь\n",
    "3. Tuple - кортеж\n",
    "4. Set - множество\n",
    "\n",
    "## List - список\n",
    "может хранить значения разных форматов данных"
   ]
  },
  {
   "cell_type": "code",
   "execution_count": null,
   "metadata": {},
   "outputs": [],
   "source": [
    "a = [1, 3, 6, 7, None, 'text']"
   ]
  },
  {
   "cell_type": "markdown",
   "metadata": {},
   "source": [
    "можно обращаться к объекту списка по номеру"
   ]
  },
  {
   "cell_type": "code",
   "execution_count": 6,
   "metadata": {},
   "outputs": [
    {
     "name": "stdout",
     "output_type": "stream",
     "text": [
      "6\n"
     ]
    }
   ],
   "source": [
    "a = [1, 3, 6, 7, None, 'text']\n",
    "print(a[2])"
   ]
  },
  {
   "cell_type": "markdown",
   "metadata": {},
   "source": [
    "Получение элементов с конца"
   ]
  },
  {
   "cell_type": "code",
   "execution_count": 7,
   "metadata": {},
   "outputs": [
    {
     "name": "stdout",
     "output_type": "stream",
     "text": [
      "text\n"
     ]
    }
   ],
   "source": [
    "a = [1, 3, 6, 7, None, 'text']\n",
    "print(a[-1])"
   ]
  },
  {
   "cell_type": "markdown",
   "metadata": {},
   "source": [
    "Изменение элементов списка"
   ]
  },
  {
   "cell_type": "code",
   "execution_count": 9,
   "metadata": {},
   "outputs": [
    {
     "name": "stdout",
     "output_type": "stream",
     "text": [
      "[1, 13, 6, 7, None, 'text']\n"
     ]
    }
   ],
   "source": [
    "a = [1, 3, 6, 7, None, 'text']\n",
    "a[1] += 10\n",
    "print(a)"
   ]
  },
  {
   "cell_type": "markdown",
   "metadata": {},
   "source": [
    "Добавить значение в конец списка"
   ]
  },
  {
   "cell_type": "code",
   "execution_count": 10,
   "metadata": {},
   "outputs": [
    {
     "name": "stdout",
     "output_type": "stream",
     "text": [
      "[1, 3, 6, 7, None, 'text', False]\n"
     ]
    }
   ],
   "source": [
    "a = [1, 3, 6, 7, None, 'text']\n",
    "a.append(False)\n",
    "print(a)"
   ]
  },
  {
   "cell_type": "markdown",
   "metadata": {},
   "source": [
    "Количество элементов в списке"
   ]
  },
  {
   "cell_type": "code",
   "execution_count": 11,
   "metadata": {},
   "outputs": [
    {
     "name": "stdout",
     "output_type": "stream",
     "text": [
      "6\n"
     ]
    }
   ],
   "source": [
    "a = [1, 3, 6, 7, None, 'text']\n",
    "print(len(a))"
   ]
  },
  {
   "cell_type": "markdown",
   "metadata": {},
   "source": [
    "Индекс искомого элемента - возвращает индекс первого найденного элемента"
   ]
  },
  {
   "cell_type": "code",
   "execution_count": 13,
   "metadata": {},
   "outputs": [
    {
     "name": "stdout",
     "output_type": "stream",
     "text": [
      "1\n"
     ]
    }
   ],
   "source": [
    "a = [1, 3, 6, 7, None, 'text']\n",
    "print(a.index(3))"
   ]
  },
  {
   "cell_type": "markdown",
   "metadata": {},
   "source": [
    "Удаление из списка по индексу + сохранение удаленного элемента"
   ]
  },
  {
   "cell_type": "code",
   "execution_count": 15,
   "metadata": {},
   "outputs": [
    {
     "name": "stdout",
     "output_type": "stream",
     "text": [
      "[1, 3, 6, 7, None]\n",
      "text\n"
     ]
    }
   ],
   "source": [
    "a = [1, 3, 6, 7, None, 'text']\n",
    "popped = a.pop(-1)\n",
    "print(a)\n",
    "print(popped)"
   ]
  },
  {
   "cell_type": "markdown",
   "metadata": {},
   "source": [
    "поиск в списке"
   ]
  },
  {
   "cell_type": "code",
   "execution_count": 16,
   "metadata": {},
   "outputs": [
    {
     "name": "stdout",
     "output_type": "stream",
     "text": [
      "True\n"
     ]
    }
   ],
   "source": [
    "a = [1, 3, 6, 7, None, 'text']\n",
    "print(None in a)"
   ]
  },
  {
   "cell_type": "markdown",
   "metadata": {},
   "source": [
    "Подсчет указанных элементов в списке"
   ]
  },
  {
   "cell_type": "code",
   "execution_count": 17,
   "metadata": {},
   "outputs": [
    {
     "name": "stdout",
     "output_type": "stream",
     "text": [
      "2\n"
     ]
    }
   ],
   "source": [
    "a = [1, 3, 6, 1, None, 'text']\n",
    "print(a.count(1))"
   ]
  },
  {
   "cell_type": "markdown",
   "metadata": {},
   "source": [
    "## Tuple - кортеж\n",
    "отличие от списка в том, что он не изменяемый. Элементы перечисляются в круглых скобках"
   ]
  },
  {
   "cell_type": "code",
   "execution_count": null,
   "metadata": {},
   "outputs": [],
   "source": [
    "a = (1, 3, 6, 7, None, 'text')"
   ]
  },
  {
   "cell_type": "markdown",
   "metadata": {},
   "source": [
    "Можно делать всё так же, как со списком, кроме операций изменяющих кортеж\n",
    "Но его можно перезаписать"
   ]
  },
  {
   "cell_type": "markdown",
   "metadata": {},
   "source": [
    "## Множества set\n",
    "* Содержит только неповторяющиеся элементы\n",
    "* Не гарантирует порядок элементов\n",
    "* Работа похожа на работу со списком"
   ]
  },
  {
   "cell_type": "code",
   "execution_count": null,
   "metadata": {},
   "outputs": [],
   "source": [
    "a = {1, 3, 6, 7, None, 'text'}"
   ]
  },
  {
   "cell_type": "markdown",
   "metadata": {},
   "source": [
    "Нельзя получить элемент по индексу, потому, что в множестве удаляюются дубликаты и упорядочиваются\n",
    "Добавление элемента:"
   ]
  },
  {
   "cell_type": "code",
   "execution_count": 18,
   "metadata": {},
   "outputs": [
    {
     "name": "stdout",
     "output_type": "stream",
     "text": [
      "{1, 2, 3, 6, 7, None, 'text'}\n"
     ]
    }
   ],
   "source": [
    "a = {1, 3, 6, 7, None, 'text'}\n",
    "a.add(2)\n",
    "print(a)"
   ]
  },
  {
   "cell_type": "markdown",
   "metadata": {},
   "source": [
    "## Прекол\n",
    "чтобы убрать из листа все повторяющиеся элементы, можно изменить тип данных на множество, а потом обратно"
   ]
  },
  {
   "cell_type": "code",
   "execution_count": 21,
   "metadata": {},
   "outputs": [
    {
     "name": "stdout",
     "output_type": "stream",
     "text": [
      "{1, 2, 3, 5}\n",
      "[1, 2, 3, 5]\n",
      "[1, 2, 3, 5]\n"
     ]
    }
   ],
   "source": [
    "list1 = [1, 2, 3, 2, 3, 5]\n",
    "list1 = set(list1)\n",
    "print(list1)\n",
    "list1 = list(list1)\n",
    "print(list1)\n",
    "\n",
    "# или так\n",
    "list1 = list(set([1, 2, 3, 2, 3, 5]))\n",
    "print(list1)"
   ]
  },
  {
   "cell_type": "markdown",
   "metadata": {},
   "source": [
    "Создание пустого множества"
   ]
  },
  {
   "cell_type": "code",
   "execution_count": null,
   "metadata": {},
   "outputs": [],
   "source": [
    "my_set = set()"
   ]
  },
  {
   "cell_type": "markdown",
   "metadata": {},
   "source": [
    "# Словарь - Dictionary\n",
    "* Пары ключ - значение\n",
    "* доступ осуществляется по ключу\n",
    "* Ключ должен быть объектом неизменяемого типа, значение может быть любым"
   ]
  },
  {
   "cell_type": "code",
   "execution_count": 27,
   "metadata": {},
   "outputs": [
    {
     "name": "stdout",
     "output_type": "stream",
     "text": [
      "value_1\n",
      "2\n",
      "{1: 'value_1', 2: 'pupa'}\n",
      "{1: 'value_1', 2: 'pupa', 3: 'zalupa'}\n",
      "dict_keys([1, 2, 3])\n",
      "dict_values(['value_1', 'pupa', 'zalupa'])\n",
      "dict_items([(1, 'value_1'), (2, 'pupa'), (3, 'zalupa')])\n"
     ]
    }
   ],
   "source": [
    "my_dict = {1: 'value_1', 2: 'value_2'}\n",
    "\n",
    "# получение значения из словаря\n",
    "print(my_dict[1])\n",
    "\n",
    "# получение количества элементов\n",
    "print(len(my_dict))\n",
    "\n",
    "# изменение значения по ключу\n",
    "\n",
    "my_dict[2] = 'pupa'\n",
    "print(my_dict)\n",
    "\n",
    "# добавление пары\n",
    "my_dict[3] = 'zalupa'\n",
    "print(my_dict)\n",
    "\n",
    "# Получить все ключи\n",
    "print(my_dict.keys())\n",
    "\n",
    "# получить все значения\n",
    "print(my_dict.values())\n",
    "\n",
    "# получить все ключи и значения словаря\n",
    "print(my_dict.items())"
   ]
  },
  {
   "cell_type": "markdown",
   "metadata": {},
   "source": [
    "ключем в словаре может быть только неизменяемый тип данных:\n",
    "1. Базовый\n",
    "2. Кортеж"
   ]
  }
 ],
 "metadata": {
  "kernelspec": {
   "display_name": "base",
   "language": "python",
   "name": "python3"
  },
  "language_info": {
   "codemirror_mode": {
    "name": "ipython",
    "version": 3
   },
   "file_extension": ".py",
   "mimetype": "text/x-python",
   "name": "python",
   "nbconvert_exporter": "python",
   "pygments_lexer": "ipython3",
   "version": "3.8.8"
  }
 },
 "nbformat": 4,
 "nbformat_minor": 2
}
