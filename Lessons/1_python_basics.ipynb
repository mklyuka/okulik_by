{
 "cells": [
  {
   "cell_type": "markdown",
   "metadata": {},
   "source": [
    "# Python\n",
    "## Идентификаторы\n",
    "\n",
    "Имена используемые для обозначения: переменной, функции, класса, модуля или других объектов\n",
    "\n",
    "## Хорошие идентификаторы:\n",
    "summ\n",
    "summ_of_variables\n",
    "_new_sum\n",
    "is_payable\n",
    "__another_variable\n",
    "\n",
    "* Исключением являются классы - в них нет нижних подчеркиваний и используются большие буквы\n",
    "* Нельзя использовать зарезервированные слова, но IDE подскажет\n",
    "* Можно назвать именем какой то функции, но потом будут проблемы\n",
    "* стиль написания с нижними прочерками - snake_case\n",
    "* стиль написания с большими буквами - CamelCase\n",
    "\n",
    "## Основные типы данных\n",
    "1. int - целые числа\n",
    "2. float - дробные с точкой\n",
    "3. str - строки\n",
    "4. bool - логические\n",
    "\n",
    "Это не все, но основные\n",
    "## Переменные\n",
    "* не бывает пустых переменных, но может хранить ноль или пустую строку. Для обозначения пустой переменной нужно использовать None. Пример: var = None\n",
    "* пример указания типа данных для переменной:"
   ]
  },
  {
   "cell_type": "code",
   "execution_count": 1,
   "metadata": {},
   "outputs": [
    {
     "name": "stdout",
     "output_type": "stream",
     "text": [
      "zalupa\n"
     ]
    }
   ],
   "source": [
    "variable: str = 'zalupa'\n",
    "print(variable)"
   ]
  },
  {
   "cell_type": "markdown",
   "metadata": {},
   "source": [
    "тип данных просто указывается, python просто игнорирует\n",
    "\n",
    "## Типы операторов\n",
    "Присваивания: =, +=, -=, /=, *=, **="
   ]
  },
  {
   "cell_type": "code",
   "execution_count": 4,
   "metadata": {},
   "outputs": [
    {
     "name": "stdout",
     "output_type": "stream",
     "text": [
      "16\n"
     ]
    }
   ],
   "source": [
    "a = 4\n",
    "a **= 2\n",
    "print(a)"
   ]
  },
  {
   "cell_type": "markdown",
   "metadata": {},
   "source": [
    "Логические: and, or"
   ]
  },
  {
   "cell_type": "code",
   "execution_count": null,
   "metadata": {},
   "outputs": [],
   "source": [
    "if 1 < 2 and 1 > 0 or 3 != 0:"
   ]
  },
  {
   "cell_type": "markdown",
   "metadata": {},
   "source": [
    "Принадлежности: in"
   ]
  },
  {
   "cell_type": "code",
   "execution_count": null,
   "metadata": {},
   "outputs": [],
   "source": [
    "print('e' in 'hello')"
   ]
  },
  {
   "cell_type": "markdown",
   "metadata": {},
   "source": [
    "Идентичности: is"
   ]
  },
  {
   "cell_type": "code",
   "execution_count": 2,
   "metadata": {},
   "outputs": [
    {
     "name": "stdout",
     "output_type": "stream",
     "text": [
      "True\n"
     ]
    }
   ],
   "source": [
    "c = 'text'\n",
    "d = c\n",
    "\n",
    "print(c is d)"
   ]
  },
  {
   "cell_type": "markdown",
   "metadata": {},
   "source": [
    "Сравнения: ==, >, <, <=, >=, !="
   ]
  },
  {
   "cell_type": "code",
   "execution_count": 3,
   "metadata": {},
   "outputs": [
    {
     "name": "stdout",
     "output_type": "stream",
     "text": [
      "True\n"
     ]
    }
   ],
   "source": [
    "print(1 < 2)"
   ]
  },
  {
   "cell_type": "markdown",
   "metadata": {},
   "source": [
    "Арифметические, помимо и так понятных:\n",
    "1. % - остаток от деления, показывает только остаток после целочисленного деления\n",
    "2. ** - возведение в степень\n",
    "3. // - целочисленное деление, в результате только целые числа"
   ]
  },
  {
   "cell_type": "code",
   "execution_count": 5,
   "metadata": {},
   "outputs": [
    {
     "name": "stdout",
     "output_type": "stream",
     "text": [
      "1\n"
     ]
    }
   ],
   "source": [
    "print(5 % 2)"
   ]
  },
  {
   "cell_type": "markdown",
   "metadata": {},
   "source": [
    "## Порядок операций\n",
    "1. Скобки\n",
    "2. Возведение в степень\n",
    "3. Умножение\n",
    "4. Деление\n",
    "5. Сложение\n",
    "6. Вычитание"
   ]
  }
 ],
 "metadata": {
  "kernelspec": {
   "display_name": "base",
   "language": "python",
   "name": "python3"
  },
  "language_info": {
   "codemirror_mode": {
    "name": "ipython",
    "version": 3
   },
   "file_extension": ".py",
   "mimetype": "text/x-python",
   "name": "python",
   "nbconvert_exporter": "python",
   "pygments_lexer": "ipython3",
   "version": "3.8.8"
  }
 },
 "nbformat": 4,
 "nbformat_minor": 2
}
