{
 "cells": [
  {
   "cell_type": "markdown",
   "metadata": {},
   "source": [
    "# Применение списков и прочих коллекций\n",
    "## Распаковка"
   ]
  },
  {
   "cell_type": "code",
   "execution_count": 2,
   "metadata": {},
   "outputs": [
    {
     "name": "stdout",
     "output_type": "stream",
     "text": [
      "1 3 2 6 9\n"
     ]
    }
   ],
   "source": [
    "# когда мы знаем сколько элементов в коллекуии\n",
    "my_list = [1, 3]\n",
    "my_tuple = (2, 6, 9)\n",
    "\n",
    "# Добавление каждого значения в отдельную переменную\n",
    "# a = my_list[0]\n",
    "# b = my_list[1]\n",
    "# c = my_tuple[0]\n",
    "# d = my_tuple[1]\n",
    "# e = my_tuple[2]\n",
    "\n",
    "a, b = my_list\n",
    "c, d, e = my_tuple\n",
    "\n",
    "print(a, b, c, d, e)"
   ]
  },
  {
   "cell_type": "markdown",
   "metadata": {},
   "source": [
    "Обращение к элементам коллекции считается дурным тоном и лучше так не делать"
   ]
  },
  {
   "cell_type": "markdown",
   "metadata": {},
   "source": [
    "## Срез\n",
    "выбор части списка"
   ]
  },
  {
   "cell_type": "code",
   "execution_count": 10,
   "metadata": {},
   "outputs": [
    {
     "name": "stdout",
     "output_type": "stream",
     "text": [
      "[1, 2, 3, 4]\n",
      "[2, 3, 4, 5]\n",
      "[1, 3, 5, 7]\n",
      "[2, 5, 8]\n",
      "[8, 7, 6, 5]\n"
     ]
    }
   ],
   "source": [
    "lll = [1, 2, 3, 4, 5, 6, 7, 8]\n",
    "\n",
    "# от начала и до червертого\n",
    "print(lll[: 4])\n",
    "\n",
    "# от 1 до 5\n",
    "print(lll[1: 5])\n",
    "\n",
    "# через 1 с нуля\n",
    "print(lll[::2])\n",
    "\n",
    "# через 2 с второго\n",
    "print(lll[1::3])\n",
    "\n",
    "# после второго двоеточия указывается шаг\n",
    "# он иожет быть через определенное количество элементов или в обратную сторону\n",
    "# 8 - 5\n",
    "print(lll[:3:-1])"
   ]
  },
  {
   "cell_type": "markdown",
   "metadata": {},
   "source": [
    "В интервалах пайтона\n",
    "* от - всегда включительно\n",
    "* до - всегда не включительно"
   ]
  },
  {
   "cell_type": "markdown",
   "metadata": {},
   "source": [
    "# Методы строк"
   ]
  },
  {
   "cell_type": "code",
   "execution_count": 13,
   "metadata": {},
   "outputs": [
    {
     "name": "stdout",
     "output_type": "stream",
     "text": [
      "l\n",
      "19\n",
      "True\n",
      "True\n"
     ]
    }
   ],
   "source": [
    "text = 'my long long string'\n",
    "\n",
    "# достать символ по индексу\n",
    "print(text[3])\n",
    "\n",
    "# длина строки\n",
    "print(len(text))\n",
    "\n",
    "# проверка, что строка начинается с определенных символов\n",
    "print(text.startswith('my'))\n",
    "\n",
    "# проверка, что строка заканчивается на определенные символы\n",
    "print(text.endswith('ing'))"
   ]
  },
  {
   "cell_type": "markdown",
   "metadata": {},
   "source": [
    "и тд. со строками можно работать так же, как с коллекциями"
   ]
  },
  {
   "cell_type": "markdown",
   "metadata": {},
   "source": [
    "выравнивание текста по регистру:"
   ]
  },
  {
   "cell_type": "code",
   "execution_count": 15,
   "metadata": {},
   "outputs": [
    {
     "name": "stdout",
     "output_type": "stream",
     "text": [
      "Pupa za lupu\n",
      "Pupa Za Lupu\n",
      "PUPA ZA LUPU\n",
      "pupa za lupu\n"
     ]
    }
   ],
   "source": [
    "txt = 'PuPa zA LuPu'\n",
    "print(txt.capitalize()) # первую букву предложения заглавной\n",
    "print(txt.title())      # каждая первая буква заглавная\n",
    "print(txt.upper())      # все буквы заглавные\n",
    "print(txt.lower())      # все буквы маленькие\n",
    "\n",
    "za_index = txt.index('zA')"
   ]
  },
  {
   "cell_type": "markdown",
   "metadata": {},
   "source": [
    "Замена слов в строке"
   ]
  },
  {
   "cell_type": "code",
   "execution_count": 17,
   "metadata": {},
   "outputs": [
    {
     "name": "stdout",
     "output_type": "stream",
     "text": [
      "Pupa za Lupu\n"
     ]
    }
   ],
   "source": [
    "txt = 'Lupa za Pupu'\n",
    "txt = txt.replace('Lupa', 'Pupa')\n",
    "txt = txt.replace('Pupu', 'Lupu')\n",
    "\n",
    "print(txt)"
   ]
  },
  {
   "cell_type": "markdown",
   "metadata": {},
   "source": [
    "Удаление пробелов в начале и в конце строки"
   ]
  },
  {
   "cell_type": "code",
   "execution_count": 20,
   "metadata": {},
   "outputs": [
    {
     "name": "stdout",
     "output_type": "stream",
     "text": [
      "phonenumber\n",
      "phone number\n",
      "\"phone number\" \n",
      "\"phone number\"\n",
      "phone number\n"
     ]
    }
   ],
   "source": [
    "txt_1 = ' phone number '\n",
    "txt_1 = txt_1.replace(' ', '')\n",
    "print(txt_1)\n",
    "\n",
    "txt_2 = ' phone number '\n",
    "txt_2 = txt_2.strip()\n",
    "print(txt_2)\n",
    "\n",
    "txt_3 = ' \"phone number\" '\n",
    "\n",
    "txt_3 = txt_3.lstrip() # убирает пробел слева\n",
    "print(txt_3)\n",
    "txt_3 = txt_3.rstrip() # убирает пробел справа\n",
    "print(txt_3)\n",
    "txt_3 = txt_3.strip('\"') # убирает кавычки\n",
    "print(txt_3)"
   ]
  },
  {
   "cell_type": "markdown",
   "metadata": {},
   "source": [
    "## Строка - список\n",
    "Для работы с большими текстами лучше переводить их в более удобные для python форматы, например рв список (list)"
   ]
  },
  {
   "cell_type": "code",
   "execution_count": 22,
   "metadata": {},
   "outputs": [
    {
     "name": "stdout",
     "output_type": "stream",
     "text": [
      "['some', 'little', 'text']\n",
      "['some', 'little', 'text']\n"
     ]
    }
   ],
   "source": [
    "# Разделение по пробелам\n",
    "text = 'some little text'\n",
    "list_from_text = text.split()\n",
    "print(list_from_text)\n",
    "\n",
    "# Разделение по указанным символам\n",
    "text = 'some,little,text'\n",
    "list_from_text = text.split(',')\n",
    "print(list_from_text)"
   ]
  },
  {
   "cell_type": "markdown",
   "metadata": {},
   "source": [
    "Список - строка"
   ]
  },
  {
   "cell_type": "code",
   "execution_count": 24,
   "metadata": {},
   "outputs": [
    {
     "name": "stdout",
     "output_type": "stream",
     "text": [
      "Python, Java, JavaScript\n"
     ]
    }
   ],
   "source": [
    "languages = ['Python', 'Java', 'JavaScript']\n",
    "\n",
    "languages = ', '.join(languages)\n",
    "print(languages)"
   ]
  },
  {
   "cell_type": "markdown",
   "metadata": {},
   "source": [
    "# Форматирование строки"
   ]
  },
  {
   "cell_type": "code",
   "execution_count": 29,
   "metadata": {},
   "outputs": [
    {
     "name": "stdout",
     "output_type": "stream",
     "text": [
      "Я выпил пиво и теперь мне заебись!\n",
      "Я выпил пиво и теперь мне заебись!\n"
     ]
    }
   ],
   "source": [
    "a = 'пиво'\n",
    "b = 'заебись'\n",
    "\n",
    "# string format\n",
    "text = 'Я выпил {0} и теперь мне {1}!'\n",
    "print(text.format(a, b))\n",
    "\n",
    "# f-string\n",
    "text = f'Я выпил {a} и теперь мне {b}!'\n",
    "print(text)"
   ]
  }
 ],
 "metadata": {
  "kernelspec": {
   "display_name": "base",
   "language": "python",
   "name": "python3"
  },
  "language_info": {
   "codemirror_mode": {
    "name": "ipython",
    "version": 3
   },
   "file_extension": ".py",
   "mimetype": "text/x-python",
   "name": "python",
   "nbconvert_exporter": "python",
   "pygments_lexer": "ipython3",
   "version": "3.8.8"
  }
 },
 "nbformat": 4,
 "nbformat_minor": 2
}
