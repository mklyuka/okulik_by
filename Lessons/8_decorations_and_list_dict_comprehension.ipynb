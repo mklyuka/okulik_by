{
 "cells": [
  {
   "cell_type": "markdown",
   "metadata": {},
   "source": [
    "# Декораторы\n",
    "ф-ция является переменной, которая хранит действие"
   ]
  },
  {
   "cell_type": "code",
   "execution_count": null,
   "metadata": {},
   "outputs": [],
   "source": [
    "# переименование ф-ции\n",
    "def calc():\n",
    "    print(1 + 1)\n",
    "\n",
    "print(calc) # показывает место, где хранится ф-ция\n",
    "new_calc = calc\n",
    "print(new_calc) # покажет то же место"
   ]
  },
  {
   "cell_type": "code",
   "execution_count": 1,
   "metadata": {},
   "outputs": [
    {
     "name": "stdout",
     "output_type": "stream",
     "text": [
      "hello\n"
     ]
    }
   ],
   "source": [
    "# функция в функции\n",
    "def greet():\n",
    "    def hello():\n",
    "        return 'hello'\n",
    "    return hello()\n",
    "\n",
    "print(greet())"
   ]
  },
  {
   "cell_type": "markdown",
   "metadata": {},
   "source": [
    "дальше объединим написанное выше"
   ]
  },
  {
   "cell_type": "code",
   "execution_count": 3,
   "metadata": {},
   "outputs": [
    {
     "name": "stdout",
     "output_type": "stream",
     "text": [
      "<function outer.<locals>.inner at 0x0000023BA72E11F0>\n"
     ]
    }
   ],
   "source": [
    "def outer():\n",
    "\n",
    "    def inner():\n",
    "        result = 2 + 5\n",
    "        return result\n",
    "    return inner\n",
    "\n",
    "# для выполнения вложенной ф-ции добавляем скобок\n",
    "print(outer()())"
   ]
  },
  {
   "cell_type": "code",
   "execution_count": null,
   "metadata": {},
   "outputs": [],
   "source": [
    "def func1(give_me_a_func):\n",
    "\n",
    "\n",
    "\n",
    "def simple1():\n",
    "    print('simple1')\n",
    "    \n",
    "def simple1():\n",
    "    print('simple2')"
   ]
  }
 ],
 "metadata": {
  "kernelspec": {
   "display_name": "base",
   "language": "python",
   "name": "python3"
  },
  "language_info": {
   "codemirror_mode": {
    "name": "ipython",
    "version": 3
   },
   "file_extension": ".py",
   "mimetype": "text/x-python",
   "name": "python",
   "nbconvert_exporter": "python",
   "pygments_lexer": "ipython3",
   "version": "3.8.8"
  }
 },
 "nbformat": 4,
 "nbformat_minor": 2
}
