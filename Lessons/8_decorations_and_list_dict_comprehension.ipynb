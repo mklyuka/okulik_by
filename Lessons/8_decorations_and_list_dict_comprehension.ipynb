{
 "cells": [
  {
   "cell_type": "markdown",
   "metadata": {},
   "source": [
    "# Декораторы\n",
    "ф-ция является переменной, которая хранит действие"
   ]
  },
  {
   "cell_type": "code",
   "execution_count": null,
   "metadata": {},
   "outputs": [],
   "source": [
    "# переименование ф-ции\n",
    "def calc():\n",
    "    print(1 + 1)\n",
    "\n",
    "print(calc) # показывает место, где хранится ф-ция\n",
    "new_calc = calc\n",
    "print(new_calc) # покажет то же место"
   ]
  },
  {
   "cell_type": "code",
   "execution_count": 1,
   "metadata": {},
   "outputs": [
    {
     "name": "stdout",
     "output_type": "stream",
     "text": [
      "hello\n"
     ]
    }
   ],
   "source": [
    "# функция в функции\n",
    "def greet():\n",
    "    def hello():\n",
    "        return 'hello'\n",
    "    return hello()\n",
    "\n",
    "print(greet())"
   ]
  },
  {
   "cell_type": "markdown",
   "metadata": {},
   "source": [
    "дальше объединим написанное выше"
   ]
  },
  {
   "cell_type": "code",
   "execution_count": 3,
   "metadata": {},
   "outputs": [
    {
     "name": "stdout",
     "output_type": "stream",
     "text": [
      "<function outer.<locals>.inner at 0x0000023BA72E11F0>\n"
     ]
    }
   ],
   "source": [
    "def outer():\n",
    "\n",
    "    def inner():\n",
    "        result = 2 + 5\n",
    "        return result\n",
    "    return inner\n",
    "\n",
    "# для выполнения вложенной ф-ции добавляем скобок\n",
    "print(outer()())"
   ]
  },
  {
   "cell_type": "code",
   "execution_count": 1,
   "metadata": {},
   "outputs": [
    {
     "name": "stdout",
     "output_type": "stream",
     "text": [
      "before\n",
      "simple1\n",
      "after\n",
      "before\n",
      "simple2\n",
      "after\n"
     ]
    }
   ],
   "source": [
    "def func1(give_me_a_func):\n",
    "    print('before')\n",
    "    give_me_a_func()\n",
    "    print('after')\n",
    "\n",
    "\n",
    "def simple1():\n",
    "    print('simple1')\n",
    "    \n",
    "def simple2():\n",
    "    print('simple2')\n",
    "\n",
    "simple1\n",
    "simple2\n",
    "\n",
    "func1(simple1)\n",
    "func1(simple2)"
   ]
  },
  {
   "cell_type": "markdown",
   "metadata": {},
   "source": [
    "допустим, что у меня есть много функций: simple1 и simple2, в которые мне нужно добавить одинаковые действия: принт перед и принт после"
   ]
  },
  {
   "cell_type": "code",
   "execution_count": 6,
   "metadata": {},
   "outputs": [
    {
     "name": "stdout",
     "output_type": "stream",
     "text": [
      "Before\n",
      "simple1\n",
      "afret\n",
      "Before\n",
      "simple2\n",
      "afret\n"
     ]
    }
   ],
   "source": [
    "def add_txt(func):\n",
    "\n",
    "    def wrapper():\n",
    "        print('Before')\n",
    "        func()\n",
    "        print('afret')\n",
    "    return(wrapper)\n",
    "\n",
    "def simple1():\n",
    "    print('simple1')\n",
    "\n",
    "simple1 = add_txt(simple1)\n",
    "simple1()    \n",
    "\n",
    "def simple2():\n",
    "    print('simple2')\n",
    "\n",
    "simple2 = add_txt(simple2)\n",
    "simple2()"
   ]
  },
  {
   "cell_type": "markdown",
   "metadata": {},
   "source": [
    "То же, но с декоратором"
   ]
  },
  {
   "cell_type": "code",
   "execution_count": 2,
   "metadata": {},
   "outputs": [
    {
     "name": "stdout",
     "output_type": "stream",
     "text": [
      "Before\n",
      "simple1\n",
      "afret\n",
      "Before\n",
      "simple2\n",
      "afret\n"
     ]
    }
   ],
   "source": [
    "def add_txt(func):\n",
    "\n",
    "    def wrapper():\n",
    "        print('Before')\n",
    "        func()\n",
    "        print('afret')\n",
    "        \n",
    "    return(wrapper)\n",
    "\n",
    "@add_txt\n",
    "def simple1():\n",
    "    print('simple1')\n",
    "\n",
    "@add_txt\n",
    "def simple2():\n",
    "    print('simple2')\n",
    "\n",
    "simple1()\n",
    "simple2()"
   ]
  },
  {
   "cell_type": "markdown",
   "metadata": {},
   "source": [
    "Декоратор для записи логов своими руками c с выполнением перед и после"
   ]
  },
  {
   "cell_type": "code",
   "execution_count": 14,
   "metadata": {},
   "outputs": [
    {
     "name": "stdout",
     "output_type": "stream",
     "text": [
      "Func.: simple1 - started in :2025-01-13 19:35:18.849952\n",
      "simple1\n",
      "Func.: simple1 - stoped in :2025-01-13 19:35:18.850950\n",
      "Func.: simple2 - started in :2025-01-13 19:35:18.850950\n",
      "simple2\n",
      "Func.: simple2 - stoped in :2025-01-13 19:35:18.850950\n",
      "Func.: print_nothing - started in :2025-01-13 19:35:18.851950\n",
      "Func.: print_nothing - stoped in :2025-01-13 19:35:18.851950\n"
     ]
    }
   ],
   "source": [
    "from datetime import datetime as DT\n",
    "\n",
    "def add_logs(func):\n",
    "    def wrapper():\n",
    "        print(f'Func.: {func.__name__} - started in :{DT.now()}') #.__name__ - достает имя из ф-ции\n",
    "        func_event = func()\n",
    "        print(f'Func.: {func.__name__} - stoped in :{DT.now()}')\n",
    "        return func_event\n",
    "    \n",
    "    return wrapper\n",
    "\n",
    "@add_logs\n",
    "def simple1():\n",
    "    print('simple1')\n",
    "\n",
    "@add_logs\n",
    "def simple2():\n",
    "    print('simple2')\n",
    "\n",
    "@add_logs\n",
    "def print_nothing():\n",
    "    return 'hell'\n",
    "\n",
    "simple1()\n",
    "simple2()\n",
    "print_nothing()"
   ]
  },
  {
   "cell_type": "markdown",
   "metadata": {},
   "source": [
    "Декоратор для ф-ции с одним параметром"
   ]
  },
  {
   "cell_type": "code",
   "execution_count": 19,
   "metadata": {},
   "outputs": [
    {
     "name": "stdout",
     "output_type": "stream",
     "text": [
      "Func.: calc - started in :2025-01-13 19:46:41.373088\n",
      "6\n",
      "Func.: calc - stoped in :2025-01-13 19:46:41.374099\n"
     ]
    }
   ],
   "source": [
    "from datetime import datetime as DT\n",
    "\n",
    "def add_logs(func):\n",
    "    def wrapper(anything):\n",
    "        print(f'Func.: {func.__name__} - started in :{DT.now()}') #.__name__ - достает имя из ф-ции\n",
    "        func_event = func(anything)\n",
    "        print(f'Func.: {func.__name__} - stoped in :{DT.now()}')\n",
    "        return func_event\n",
    "    \n",
    "    return wrapper\n",
    "\n",
    "@add_logs\n",
    "def calc(a):\n",
    "    print(a * 2)\n",
    "\n",
    "calc(3)\n"
   ]
  },
  {
   "cell_type": "markdown",
   "metadata": {},
   "source": [
    "Декоратор для ф-ции с двумя параметрами"
   ]
  },
  {
   "cell_type": "code",
   "execution_count": 23,
   "metadata": {},
   "outputs": [
    {
     "name": "stdout",
     "output_type": "stream",
     "text": [
      "Func.: calc - started in :2025-01-13 19:53:27.805107\n",
      "12\n",
      "Func.: calc - stoped in :2025-01-13 19:53:27.806111\n",
      "Func.: simple1 - started in :2025-01-13 19:53:27.806111\n",
      "simple1\n",
      "Func.: simple1 - stoped in :2025-01-13 19:53:27.806111\n"
     ]
    }
   ],
   "source": [
    "from datetime import datetime as DT\n",
    "\n",
    "def add_logs(func):\n",
    "    def wrapper(*args):\n",
    "        print(f'Func.: {func.__name__} - started in :{DT.now()}') #.__name__ - достает имя из ф-ции\n",
    "        func_event = func(*args) # * перед args убирает скобки из кортежа\n",
    "        print(f'Func.: {func.__name__} - stoped in :{DT.now()}')\n",
    "        return func_event\n",
    "    \n",
    "    return wrapper\n",
    "\n",
    "@add_logs\n",
    "def calc(a, b):\n",
    "    print(a + b)\n",
    "\n",
    "@add_logs\n",
    "def simple1():\n",
    "    print('simple1')\n",
    "\n",
    "calc(3, 9)\n",
    "simple1()\n"
   ]
  },
  {
   "cell_type": "markdown",
   "metadata": {},
   "source": [
    "# List comprehension\n",
    "Умножить каждое значение списка на два"
   ]
  },
  {
   "cell_type": "code",
   "execution_count": 5,
   "metadata": {},
   "outputs": [
    {
     "name": "stdout",
     "output_type": "stream",
     "text": [
      "[2, 4, 6, 8]\n",
      "[2, 4, 6, 8]\n"
     ]
    }
   ],
   "source": [
    "my_list = [1, 2, 3, 4]\n",
    "\n",
    "new_list = map(lambda x: x * 2, my_list) # это с помощью мапа\n",
    "\n",
    "print(list(new_list))\n",
    "\n",
    "# List comrehension, однако лучше мапить\n",
    "new_list1 = [x * 2 for x in my_list]\n",
    "\n",
    "print(new_list1)"
   ]
  },
  {
   "cell_type": "markdown",
   "metadata": {},
   "source": [
    "# List comprehension - фильтр"
   ]
  },
  {
   "cell_type": "code",
   "execution_count": 11,
   "metadata": {},
   "outputs": [
    {
     "name": "stdout",
     "output_type": "stream",
     "text": [
      "[2, 4]\n",
      "[2, 4]\n",
      "[2, 4]\n"
     ]
    }
   ],
   "source": [
    "my_list = [1, 2, 3, 4]\n",
    "\n",
    "new_list = filter(lambda x: x % 2 == 0, my_list)\n",
    "\n",
    "print(list(new_list))\n",
    "\n",
    "# Решение с comprehension\n",
    "new_list1 = [x for x in my_list if x % 2 == 0]\n",
    "print(new_list1)\n",
    "\n",
    "# Генератор\n",
    "new_generator = (x for x in my_list if x % 2 == 0)\n",
    "print(new_generator) "
   ]
  },
  {
   "cell_type": "markdown",
   "metadata": {},
   "source": [
    "генерация словаря из списка"
   ]
  },
  {
   "cell_type": "code",
   "execution_count": 14,
   "metadata": {},
   "outputs": [
    {
     "name": "stdout",
     "output_type": "stream",
     "text": [
      "{1: 2, 2: 3, 3: 4, 4: 5, 5: 6, 6: 7, 7: 8, 8: 9}\n",
      "{1: 2, 2: 3, 3: 4, 4: 5, 5: 6, 6: 7, 7: 8, 8: 9}\n"
     ]
    }
   ],
   "source": [
    "my_list = [1, 2, 3, 4, 5, 6, 7, 8]\n",
    "new_dict = {}\n",
    "\n",
    "for i in my_list:\n",
    "    new_dict[i] = i + 1\n",
    "print(new_dict)\n",
    "\n",
    "# с помощью генератора\n",
    "new_dict = {x: x + 1 for x in my_list}\n",
    "print(new_dict)"
   ]
  },
  {
   "cell_type": "markdown",
   "metadata": {},
   "source": [
    "Словарь из пар"
   ]
  },
  {
   "cell_type": "code",
   "execution_count": 20,
   "metadata": {},
   "outputs": [
    {
     "name": "stdout",
     "output_type": "stream",
     "text": [
      "{'one': True, 'two': False}\n",
      "{'one': True, 'two': False}\n",
      "{'one': True, 'two': False}\n"
     ]
    }
   ],
   "source": [
    "data = [('one', True), ('two', False)]\n",
    "\n",
    "new_dict = {}\n",
    "\n",
    "for key, value in data: #Распаковка кортежа\n",
    "    new_dict[key] = value\n",
    "print(new_dict)\n",
    "\n",
    "# генератор словаря\n",
    "new_dict = {key: value for key, value in data}\n",
    "print(new_dict)\n",
    "\n",
    "# готовая ф-ция\n",
    "new_dict = dict(data)\n",
    "print(new_dict)"
   ]
  },
  {
   "cell_type": "markdown",
   "metadata": {},
   "source": [
    "Два списка в словарь"
   ]
  },
  {
   "cell_type": "code",
   "execution_count": 24,
   "metadata": {},
   "outputs": [
    {
     "name": "stdout",
     "output_type": "stream",
     "text": [
      "[('UZ', '+60'), ('KZ', '+30'), ('RUS', '-40')]\n",
      "{'UZ': '+60', 'KZ': '+30', 'RUS': '-40'}\n",
      "{'UZ': '+60', 'KZ': '+30', 'RUS': '-40'}\n"
     ]
    }
   ],
   "source": [
    "countries = ['UZ', 'KZ', 'RUS']\n",
    "temps = ['+60', '+30', '-40']\n",
    "\n",
    "# трансформация в список кортежей\n",
    "pairs = list(zip(countries, temps))\n",
    "print(pairs)\n",
    "\n",
    "new_dict = dict(pairs)\n",
    "print(new_dict)\n",
    "\n",
    "# в одну строчку\n",
    "new_dict = dict(list(zip(countries, temps)))\n",
    "print(new_dict)"
   ]
  }
 ],
 "metadata": {
  "kernelspec": {
   "display_name": "base",
   "language": "python",
   "name": "python3"
  },
  "language_info": {
   "codemirror_mode": {
    "name": "ipython",
    "version": 3
   },
   "file_extension": ".py",
   "mimetype": "text/x-python",
   "name": "python",
   "nbconvert_exporter": "python",
   "pygments_lexer": "ipython3",
   "version": "3.8.8"
  }
 },
 "nbformat": 4,
 "nbformat_minor": 2
}
