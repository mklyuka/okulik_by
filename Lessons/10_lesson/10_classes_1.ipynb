{
 "cells": [
  {
   "cell_type": "markdown",
   "metadata": {},
   "source": [
    "# ООП - Объектно ориентированное программирование\n",
    "\n",
    "## Принципы ООП:\n",
    "- Инкапсуляция (Encapsulation)\n",
    "- Наследование (Inheritance)\n",
    "- Полиморфизм (Polymorphism)"
   ]
  },
  {
   "cell_type": "markdown",
   "metadata": {},
   "source": [
    "### Инкапсуляция\n",
    "Все данные объекта должны храниться в объекте. Никто не может изменить данные объекта без его ведома\n",
    "### Наследование\n",
    "Объекты и типы организуют иерархию типов. Дочерние тиаы наследуют свою функциональность от родительского класса, расширяя и дополняя её\n",
    "### Полиморфизм\n",
    "Способность классов менять своё поведение в зависимости от типов операций и операндов. Полиморфизм в программировании реализуется через перегрузку метода, либо через переопределение"
   ]
  },
  {
   "cell_type": "code",
   "execution_count": 2,
   "metadata": {},
   "outputs": [],
   "source": [
    "from abc import abstractmethod\n",
    "\n",
    "# Класс, в котором етсь абстрактный метод, тоже является абстрактным\n",
    "# Если из класса нельзя создать объект -- он опять абстрактный\n",
    "class Group: # Названия классов с большой буквы\n",
    "    pupils = True\n",
    "    school_name = 42\n",
    "    director = 'Marivanna'\n",
    "    \n",
    "    #Указание различий для классов -- уникальные характеристики\n",
    "    def __init__(self, title, pupils_count, group_leader):\n",
    "        self.title = title\n",
    "        self.pupils_count = pupils_count\n",
    "        self.group_leader = group_leader\n",
    "\n",
    "    # в классах не ф-ции а методы, в которых нужно писать self\n",
    "    def study(self):\n",
    "        print('sit down and read')\n",
    "    \n",
    "    # Пишется в начальном классе для наглядности\n",
    "    @abstractmethod\n",
    "    def move(self): # Абстрактный метод\n",
    "        pass # ничего не делает, кроме читаемости\n",
    "\n",
    "class PrimaryGroup(Group): # В скобках указывается родительский класс\n",
    "    max_age = 11\n",
    "    min_age = 6\n",
    "    area = 'Left'\n",
    "\n",
    "    #Уникальные характеристики для подкласса\n",
    "    def __init__(self, title, pupils_count, group_leader, class_room):\n",
    "        # Обращение к родительскому классу\n",
    "        super().__init__(title, pupils_count, group_leader)\n",
    "        self.class_room = class_room\n",
    "\n",
    "    def move(self):\n",
    "        print('run fast')\n",
    "\n",
    "class HightGroup(Group):\n",
    "    max_age = 18\n",
    "    min_age = 14\n",
    "\n",
    "    def move(self):\n",
    "        print('run slow')"
   ]
  },
  {
   "cell_type": "code",
   "execution_count": 5,
   "metadata": {},
   "outputs": [
    {
     "name": "stdout",
     "output_type": "stream",
     "text": [
      "24\n",
      "23\n"
     ]
    }
   ],
   "source": [
    "first_a = PrimaryGroup('1a', 24, 'MI', 12)\n",
    "print(first_a.pupils_count)\n",
    "first_a.pupils_count = 23\n",
    "print(first_a.pupils_count)"
   ]
  },
  {
   "cell_type": "markdown",
   "metadata": {},
   "source": [
    "Чето сейчас поделаем"
   ]
  },
  {
   "cell_type": "code",
   "execution_count": null,
   "metadata": {},
   "outputs": [],
   "source": [
    "# data1.txt\n",
    "{\"Country\": \"Turkey\", \"avg_temp\": 30}\n",
    "# data2.txt\n",
    "{\"Country\": \"Greece\", \"avg_temp\": 28}"
   ]
  },
  {
   "cell_type": "code",
   "execution_count": 5,
   "metadata": {},
   "outputs": [
    {
     "name": "stdout",
     "output_type": "stream",
     "text": [
      "{'Country': 'Turkey', 'avg_temp': 30}\n",
      "Turkey\n"
     ]
    }
   ],
   "source": [
    "import json\n",
    "\n",
    "# Неправильное чтение файла, потому, что надо каждый раз закрывать\n",
    "file_data = open('data1.txt', 'r') #'r' - открытие для чтения файла (Бывает еще записи и всякое)\n",
    "data = file_data.read() # чтение открытого файла\n",
    "data = json.loads(data) # Сказали, что данные в файле хранятся в json для обращения к ним\n",
    "print(data)\n",
    "file_data.close() # закрытие файла\n",
    "\n",
    "print(data[\"Country\"])"
   ]
  },
  {
   "cell_type": "markdown",
   "metadata": {},
   "source": [
    "Но у нас два файла, и чтобы прочитать их нельзя два раза писать одно и то же. Напишем функцию"
   ]
  },
  {
   "cell_type": "code",
   "execution_count": 8,
   "metadata": {},
   "outputs": [
    {
     "name": "stdout",
     "output_type": "stream",
     "text": [
      "Turkey\n",
      "Greece\n"
     ]
    }
   ],
   "source": [
    "import json\n",
    "\n",
    "def read_file(path):\n",
    "    file_data = open(path, 'r')\n",
    "    data = file_data.read()\n",
    "    data = json.loads(data)\n",
    "    return data\n",
    "\n",
    "print(read_file(\"data1.txt\")[\"Country\"])\n",
    "print(read_file(\"data2.txt\")[\"Country\"])"
   ]
  },
  {
   "cell_type": "markdown",
   "metadata": {},
   "source": [
    "json.loads() -- из текста в словарь\n",
    "json.load() -- из содержимого файла в словарь"
   ]
  }
 ],
 "metadata": {
  "kernelspec": {
   "display_name": "base",
   "language": "python",
   "name": "python3"
  },
  "language_info": {
   "codemirror_mode": {
    "name": "ipython",
    "version": 3
   },
   "file_extension": ".py",
   "mimetype": "text/x-python",
   "name": "python",
   "nbconvert_exporter": "python",
   "pygments_lexer": "ipython3",
   "version": "3.8.8"
  }
 },
 "nbformat": 4,
 "nbformat_minor": 2
}
