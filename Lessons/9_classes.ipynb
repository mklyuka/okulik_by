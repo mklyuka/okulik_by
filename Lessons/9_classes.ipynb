{
 "cells": [
  {
   "cell_type": "markdown",
   "metadata": {},
   "source": [
    "# Классы\n",
    "являются частью ооп, но о нем позже\n",
    "Используются для структурирования и переиспользования кода\n",
    "# Классы на примере школы\n",
    "Группы - конечные объекты, которые мы будем создавать\n",
    "\n",
    "Школа:\n",
    "Начальная"
   ]
  },
  {
   "cell_type": "code",
   "execution_count": 7,
   "metadata": {},
   "outputs": [],
   "source": [
    "from abc import abstractmethod\n",
    "\n",
    "# Класс, в котором етсь абстрактный метод, тоже является абстрактным\n",
    "# Если из класса нельзя создать объект -- он опять абстрактный\n",
    "class Group: # Названия классов с большой буквы\n",
    "    pupils = True\n",
    "    school_name = 42\n",
    "    director = 'Marivanna'\n",
    "    \n",
    "    #Указание различий для классов -- уникальные характеристики\n",
    "    def __init__(self, title, pupils_count, group_leader):\n",
    "        self.title = title\n",
    "        self.pupils_count = pupils_count\n",
    "        self.group_leader = group_leader\n",
    "\n",
    "    # в классах не ф-ции а методы, в которых нужно писать self\n",
    "    def study(self):\n",
    "        print('sit down and read')\n",
    "    \n",
    "    # Пишется в начальном классе для наглядности\n",
    "    @abstractmethod\n",
    "    def move(self): # Абстрактный метод\n",
    "        pass # ничего не делает, кроме читаемости\n",
    "\n",
    "class PrimaryGroup(Group): # В скобках указывается родительский класс\n",
    "    max_age = 11\n",
    "    min_age = 6\n",
    "    area = 'Left'\n",
    "\n",
    "    #Уникальные характеристики для подкласса\n",
    "    def __init__(self, title, pupils_count, group_leader, class_room):\n",
    "        # Обращение к родительскому классу\n",
    "        super().__init__(title, pupils_count, group_leader)\n",
    "        self.class_room = class_room\n",
    "\n",
    "    def move(self):\n",
    "        print('run fast')\n",
    "\n",
    "class HightGroup(Group):\n",
    "    max_age = 18\n",
    "    min_age = 14\n",
    "\n",
    "    def move(self):\n",
    "        print('run slow')"
   ]
  },
  {
   "cell_type": "markdown",
   "metadata": {},
   "source": [
    "объект класса = объект типа = представитель класса = экземпляр класса"
   ]
  },
  {
   "cell_type": "code",
   "execution_count": 9,
   "metadata": {},
   "outputs": [
    {
     "name": "stdout",
     "output_type": "stream",
     "text": [
      "22\n",
      "TA\n",
      "True\n",
      "42\n",
      "11\n",
      "sit down and read\n",
      "run fast\n",
      "run slow\n"
     ]
    }
   ],
   "source": [
    "# Создал два объекта классов\n",
    "first_a = PrimaryGroup('1a', 32, 'SB', 22)\n",
    "eleven_a = HightGroup('9b', 26, 'TA')\n",
    "\n",
    "print(first_a.class_room)\n",
    "\n",
    "print(eleven_a.group_leader)\n",
    "\n",
    "print(first_a.pupils)\n",
    "print(first_a.school_name)\n",
    "print(first_a.max_age)\n",
    "eleven_a.study()\n",
    "first_a.move()\n",
    "eleven_a.move()"
   ]
  },
  {
   "cell_type": "markdown",
   "metadata": {},
   "source": [
    "Дочерние объекты могут брать что то только из своих и родительских классов"
   ]
  },
  {
   "cell_type": "markdown",
   "metadata": {},
   "source": [
    "## Инкапсуляция\n",
    "Каждый объект умеет хранить в себе все свои свойства и возможности -- всё, что он может делать\n",
    "## Наследственность\n",
    "Если у класса нет своего метода (инита) -- он использует методы из родительского класса\n",
    "Но если есть свой инит в классе -- инит родительского класса не используется"
   ]
  }
 ],
 "metadata": {
  "kernelspec": {
   "display_name": "base",
   "language": "python",
   "name": "python3"
  },
  "language_info": {
   "codemirror_mode": {
    "name": "ipython",
    "version": 3
   },
   "file_extension": ".py",
   "mimetype": "text/x-python",
   "name": "python",
   "nbconvert_exporter": "python",
   "pygments_lexer": "ipython3",
   "version": "3.8.8"
  }
 },
 "nbformat": 4,
 "nbformat_minor": 2
}
