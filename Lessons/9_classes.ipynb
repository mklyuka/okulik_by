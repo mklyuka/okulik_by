{
 "cells": [
  {
   "cell_type": "markdown",
   "metadata": {},
   "source": [
    "# Классы\n",
    "являются частью ооп, но о нем позже\n",
    "Используются для структурирования и переиспользования кода\n",
    "# Классы на примере школы\n",
    "Группы - конечные объекты, которые мы будем создавать\n",
    "\n",
    "Школа:\n",
    "Начальная"
   ]
  },
  {
   "cell_type": "code",
   "execution_count": 20,
   "metadata": {},
   "outputs": [
    {
     "ename": "NameError",
     "evalue": "name 'abstractmethod' is not defined",
     "output_type": "error",
     "traceback": [
      "\u001b[1;31m---------------------------------------------------------------------------\u001b[0m",
      "\u001b[1;31mNameError\u001b[0m                                 Traceback (most recent call last)",
      "\u001b[1;32m<ipython-input-20-069e380679b1>\u001b[0m in \u001b[0;36m<module>\u001b[1;34m\u001b[0m\n\u001b[0;32m      1\u001b[0m \u001b[1;31m# Класс, в котором етсь абстрактный метод, тоже является абстрактным\u001b[0m\u001b[1;33m\u001b[0m\u001b[1;33m\u001b[0m\u001b[1;33m\u001b[0m\u001b[0m\n\u001b[1;32m----> 2\u001b[1;33m \u001b[1;32mclass\u001b[0m \u001b[0mGroup\u001b[0m\u001b[1;33m:\u001b[0m \u001b[1;31m# Названия классов с большой буквы\u001b[0m\u001b[1;33m\u001b[0m\u001b[1;33m\u001b[0m\u001b[0m\n\u001b[0m\u001b[0;32m      3\u001b[0m     \u001b[0mpupils\u001b[0m \u001b[1;33m=\u001b[0m \u001b[1;32mTrue\u001b[0m\u001b[1;33m\u001b[0m\u001b[1;33m\u001b[0m\u001b[0m\n\u001b[0;32m      4\u001b[0m     \u001b[0mschool_name\u001b[0m \u001b[1;33m=\u001b[0m \u001b[1;36m42\u001b[0m\u001b[1;33m\u001b[0m\u001b[1;33m\u001b[0m\u001b[0m\n\u001b[0;32m      5\u001b[0m     \u001b[0mdirector\u001b[0m \u001b[1;33m=\u001b[0m \u001b[1;34m'Marivanna'\u001b[0m\u001b[1;33m\u001b[0m\u001b[1;33m\u001b[0m\u001b[0m\n",
      "\u001b[1;32m<ipython-input-20-069e380679b1>\u001b[0m in \u001b[0;36mGroup\u001b[1;34m()\u001b[0m\n\u001b[0;32m     10\u001b[0m \u001b[1;33m\u001b[0m\u001b[0m\n\u001b[0;32m     11\u001b[0m     \u001b[1;31m# Пишется в начальном классе для наглядности\u001b[0m\u001b[1;33m\u001b[0m\u001b[1;33m\u001b[0m\u001b[1;33m\u001b[0m\u001b[0m\n\u001b[1;32m---> 12\u001b[1;33m     \u001b[1;33m@\u001b[0m\u001b[0mabstractmethod\u001b[0m\u001b[1;33m\u001b[0m\u001b[1;33m\u001b[0m\u001b[0m\n\u001b[0m\u001b[0;32m     13\u001b[0m     \u001b[1;32mdef\u001b[0m \u001b[0mmove\u001b[0m\u001b[1;33m(\u001b[0m\u001b[0mself\u001b[0m\u001b[1;33m)\u001b[0m\u001b[1;33m:\u001b[0m \u001b[1;31m# Абстрактный метод\u001b[0m\u001b[1;33m\u001b[0m\u001b[1;33m\u001b[0m\u001b[0m\n\u001b[0;32m     14\u001b[0m         \u001b[1;32mpass\u001b[0m \u001b[1;31m# ничего не делает, кроме читаемости\u001b[0m\u001b[1;33m\u001b[0m\u001b[1;33m\u001b[0m\u001b[0m\n",
      "\u001b[1;31mNameError\u001b[0m: name 'abstractmethod' is not defined"
     ]
    }
   ],
   "source": [
    "# Класс, в котором етсь абстрактный метод, тоже является абстрактным\n",
    "# Если из класса нельзя создать объект -- он опять абстрактный\n",
    "class Group: # Названия классов с большой буквы\n",
    "    pupils = True\n",
    "    school_name = 42\n",
    "    director = 'Marivanna'\n",
    "\n",
    "    # в классах не ф-ции а методы, в которых нужно писать self\n",
    "    def study(self):\n",
    "        print('sit down and read')\n",
    "    \n",
    "    # Пишется в начальном классе для наглядности\n",
    "    def move(self): # Абстрактный метод\n",
    "        pass # ничего не делает, кроме читаемости\n",
    "\n",
    "class PrimaryGroup(Group): # В скобках указывается родительский класс\n",
    "    max_age = 11\n",
    "    min_age = 6\n",
    "    area = 'Left'\n",
    "\n",
    "    def move(self):\n",
    "        print('run fast')\n",
    "\n",
    "class HightGroup(Group):\n",
    "    max_age = 18\n",
    "    min_age = 14\n",
    "\n",
    "    def move(self):\n",
    "        print('run slow')"
   ]
  },
  {
   "cell_type": "markdown",
   "metadata": {},
   "source": [
    "объект класса = объект типа = представитель класса = экземпляр класса"
   ]
  },
  {
   "cell_type": "code",
   "execution_count": 19,
   "metadata": {},
   "outputs": [
    {
     "name": "stdout",
     "output_type": "stream",
     "text": [
      "True\n",
      "42\n",
      "11\n",
      "sit down and read\n",
      "run fast\n",
      "run slow\n"
     ]
    }
   ],
   "source": [
    "# Создал два объекта классов\n",
    "first_a = PrimaryGroup()\n",
    "eleven_a = HightGroup()\n",
    "\n",
    "print(first_a.pupils)\n",
    "print(first_a.school_name)\n",
    "print(first_a.max_age)\n",
    "eleven_a.study()\n",
    "first_a.move()\n",
    "eleven_a.move()"
   ]
  },
  {
   "cell_type": "markdown",
   "metadata": {},
   "source": [
    "Дочерние объекты могут брать что то только из своих и родительских классов"
   ]
  }
 ],
 "metadata": {
  "kernelspec": {
   "display_name": "base",
   "language": "python",
   "name": "python3"
  },
  "language_info": {
   "codemirror_mode": {
    "name": "ipython",
    "version": 3
   },
   "file_extension": ".py",
   "mimetype": "text/x-python",
   "name": "python",
   "nbconvert_exporter": "python",
   "pygments_lexer": "ipython3",
   "version": "3.8.8"
  }
 },
 "nbformat": 4,
 "nbformat_minor": 2
}
