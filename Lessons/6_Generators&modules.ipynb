{
 "cells": [
  {
   "cell_type": "markdown",
   "metadata": {},
   "source": [
    "# Фукция Генератор"
   ]
  },
  {
   "cell_type": "code",
   "execution_count": 11,
   "metadata": {},
   "outputs": [
    {
     "name": "stdout",
     "output_type": "stream",
     "text": [
      "[1, 3, 5, 7, 9, 11, 13, 15, 17, 19, 21, 23, 25, 27, 29, 31, 33, 35, 37, 39, 41, 43, 45, 47, 49, 51, 53, 55, 57, 59, 61, 63, 65, 67, 69, 71, 73, 75, 77, 79, 81, 83, 85, 87, 89, 91, 93, 95, 97, 99, 101, 103, 105, 107, 109, 111, 113, 115, 117, 119, 121, 123, 125, 127, 129, 131, 133, 135, 137, 139, 141, 143, 145, 147, 149, 151, 153, 155, 157, 159, 161, 163, 165, 167, 169, 171, 173, 175, 177, 179, 181, 183, 185, 187, 189, 191, 193, 195, 197, 199]\n",
      "29\n"
     ]
    }
   ],
   "source": [
    "def progression(limit=10):\n",
    "    n = 2 # шаг\n",
    "    num = 1 # первое число\n",
    "    count = 0 # счетчик итераций\n",
    "    while count < limit:\n",
    "        yield num\n",
    "        num += n\n",
    "        count += 1\n",
    "\n",
    "counter = 1\n",
    "for num in progression(100):\n",
    "    if counter == 15:\n",
    "        print(num)\n",
    "        break\n",
    "    counter += 1\n",
    "    "
   ]
  },
  {
   "cell_type": "markdown",
   "metadata": {},
   "source": [
    "# Модули\n",
    "* Есть встроенные функции типа print(), которые не нужно импоортировать\n",
    "* Есть функции, для работы с которыми нужно импортировать модули"
   ]
  },
  {
   "cell_type": "code",
   "execution_count": 21,
   "metadata": {},
   "outputs": [
    {
     "name": "stdout",
     "output_type": "stream",
     "text": [
      "5\n"
     ]
    }
   ],
   "source": [
    "import random\n",
    "\n",
    "a = ['a', 'b', 'c']\n",
    "\n",
    "print(random.choice(a))"
   ]
  },
  {
   "cell_type": "code",
   "execution_count": 6,
   "metadata": {},
   "outputs": [
    {
     "data": {
      "text/plain": [
       "CompletedProcess(args=['python', '-m', 'pip', 'install', 'C:\\\\Users\\\\Maksim_Kl\\\\Downloads\\\\poetry-2.0.0-py3-none-any.whl'], returncode=1)"
      ]
     },
     "execution_count": 6,
     "metadata": {},
     "output_type": "execute_result"
    }
   ],
   "source": [
    "import subprocess\n",
    "import os\n",
    "\n",
    "# Отключение проверки SSL-сертификатов\n",
    "os.environ[\"PIP_NO_VERIFY\"] = \"1\"\n",
    "\n",
    "package_path = \"C:\\\\Users\\\\Maksim_Kl\\\\Downloads\\\\poetry-2.0.0-py3-none-any.whl\"\n",
    "\n",
    "# Установка пакета\n",
    "subprocess.run([\n",
    "    \"python\", \"-m\", \"pip\", \"install\", package_path\n",
    "])\n"
   ]
  },
  {
   "cell_type": "code",
   "execution_count": null,
   "metadata": {},
   "outputs": [
    {
     "data": {
      "text/plain": [
       "CompletedProcess(args=['python', '-m', 'pip', 'show', 'poetry'], returncode=1)"
      ]
     },
     "execution_count": 8,
     "metadata": {},
     "output_type": "execute_result"
    }
   ],
   "source": []
  }
 ],
 "metadata": {
  "kernelspec": {
   "display_name": "base",
   "language": "python",
   "name": "python3"
  },
  "language_info": {
   "codemirror_mode": {
    "name": "ipython",
    "version": 3
   },
   "file_extension": ".py",
   "mimetype": "text/x-python",
   "name": "python",
   "nbconvert_exporter": "python",
   "pygments_lexer": "ipython3",
   "version": "3.8.8"
  }
 },
 "nbformat": 4,
 "nbformat_minor": 2
}
